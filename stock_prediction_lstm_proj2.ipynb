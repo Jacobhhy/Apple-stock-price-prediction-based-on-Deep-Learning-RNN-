{
  "nbformat": 4,
  "nbformat_minor": 0,
  "metadata": {
    "kernelspec": {
      "name": "python3",
      "display_name": "Python 3"
    },
    "colab": {
      "provenance": []
    },
    "accelerator": "GPU"
  },
  "cells": [
    {
      "cell_type": "markdown",
      "metadata": {
        "id": "vGbT1dgk2h0D"
      },
      "source": [
        "# Stock Prediction RNN \n",
        "\n",
        "In this project, I perform a time series prediction using a Recurrent Neural Network regressor. For this example, I will predict Apple's stock price 7 days in advance.\n",
        "\n",
        "The particular network architecture I will employ for my RNN is a  [Long Term Short Memory (LTSM)](https://en.wikipedia.org/wiki/Long_short-term_memory), which helps significantly avoid technical problems with optimization of RNNs."
      ]
    },
    {
      "cell_type": "markdown",
      "metadata": {
        "id": "vwPba0Jg2bSX"
      },
      "source": [
        "# Pytorch LSTM Stock Predictor\n",
        "\n",
        "This is a Pytorch version of the original Keras LSTM Stock Predictor provided by [Super DataScience](https://www.superdatascience.com/deep-learning/), and also available elsewhere in this repo as a notebook."
      ]
    },
    {
      "cell_type": "markdown",
      "metadata": {
        "id": "boG82OJt2n4g"
      },
      "source": [
        "## Step 1: Loading the data\n",
        "\n",
        "First let's load in our time series - a history of around 140 days of Apple's stock price. Then we need to perform a number of pre-processing steps to prepare it for use with an RNN model.  First off, it is good practice to normalize time series - by normalizing its range.  This helps us avoid serious numerical issues associated how common activation functions (like tanh) transform very large (positive or negative) numbers, as well as helping us to avoid related issues when computing derivatives.\n",
        "\n",
        "Here we normalize the series to lie in the range [0,1] [using this scikit function](http://scikit-learn.org/stable/modules/generated/sklearn.preprocessing.MinMaxScaler.html)."
      ]
    },
    {
      "cell_type": "code",
      "metadata": {
        "id": "6k-jrLoP20Fm",
        "colab": {
          "base_uri": "https://localhost:8080/"
        },
        "outputId": "487530e2-5568-4498-d6f5-92208c98c937"
      },
      "source": [
        "# download the data\n",
        "!wget https://raw.githubusercontent.com/tonylaioffer/stock-prediction-lstm-using-keras/master/data/sandp500/all_stocks_5yr.csv"
      ],
      "execution_count": 1,
      "outputs": [
        {
          "output_type": "stream",
          "name": "stdout",
          "text": [
            "--2023-03-31 03:41:33--  https://raw.githubusercontent.com/tonylaioffer/stock-prediction-lstm-using-keras/master/data/sandp500/all_stocks_5yr.csv\n",
            "Resolving raw.githubusercontent.com (raw.githubusercontent.com)... 185.199.108.133, 185.199.109.133, 185.199.110.133, ...\n",
            "Connecting to raw.githubusercontent.com (raw.githubusercontent.com)|185.199.108.133|:443... connected.\n",
            "HTTP request sent, awaiting response... 200 OK\n",
            "Length: 29580549 (28M) [text/plain]\n",
            "Saving to: ‘all_stocks_5yr.csv’\n",
            "\n",
            "all_stocks_5yr.csv  100%[===================>]  28.21M  80.7MB/s    in 0.3s    \n",
            "\n",
            "2023-03-31 03:41:34 (80.7 MB/s) - ‘all_stocks_5yr.csv’ saved [29580549/29580549]\n",
            "\n"
          ]
        }
      ]
    },
    {
      "cell_type": "code",
      "metadata": {
        "id": "3-8wHDYS28-m",
        "colab": {
          "base_uri": "https://localhost:8080/"
        },
        "outputId": "1666935e-902f-4a39-8da5-f0fa2a2c3247"
      },
      "source": [
        "!ls ."
      ],
      "execution_count": 2,
      "outputs": [
        {
          "output_type": "stream",
          "name": "stdout",
          "text": [
            "all_stocks_5yr.csv  sample_data\n"
          ]
        }
      ]
    },
    {
      "cell_type": "code",
      "metadata": {
        "id": "lC_2yxKR2bSe"
      },
      "source": [
        "import numpy as np\n",
        "import pandas as pd\n",
        "import matplotlib.pyplot as plt\n",
        "\n",
        "import torch.nn as nn\n",
        "import torch\n",
        "from torch.autograd import Variable\n",
        "from torch.utils.data import Dataset, DataLoader"
      ],
      "execution_count": 3,
      "outputs": []
    },
    {
      "cell_type": "code",
      "metadata": {
        "id": "BvFrixdV2bSw"
      },
      "source": [
        "# Importing the training set\n",
        "dataset = data = pd.read_csv('./all_stocks_5yr.csv')\n",
        "dataset_cl = dataset[dataset['Name']=='SWKS'].close.values\n",
        "\n",
        "# dataset_train = pd.read_csv('Google_Stock_Price_Train.csv')\n",
        "# training_set = dataset_train.iloc[:, 1:2].values"
      ],
      "execution_count": 4,
      "outputs": []
    },
    {
      "cell_type": "code",
      "metadata": {
        "id": "XFvN25Yj3w9r"
      },
      "source": [
        "# Feature Scaling\n",
        "from sklearn.preprocessing import MinMaxScaler\n",
        "\n",
        "sc = MinMaxScaler(feature_range = (0, 1))\n",
        "\n",
        "# scale the data\n",
        "dataset_cl = dataset_cl.reshape(dataset_cl.shape[0], 1)\n",
        "dataset_cl = sc.fit_transform(dataset_cl)"
      ],
      "execution_count": 5,
      "outputs": []
    },
    {
      "cell_type": "markdown",
      "metadata": {
        "id": "UURKEshg3g0G"
      },
      "source": [
        "## Step 2:  Cutting our time series into sequences\n",
        "\n",
        "Remember, our time series is a sequence of numbers that we can represent in general mathematically as \n",
        "\n",
        "$$s_{0},s_{1},s_{2},...,s_{P}$$\n",
        "\n",
        "where $s_{p}$ is the numerical value of the time series at time period $p$ and where $P$ is the total length of the series.  In order to apply our RNN we treat the time series prediction problem as a regression problem, and so need to use a sliding window to construct a set of associated input/output pairs to regress on.  This process is animated in the gif below.\n",
        "\n",
        "<img src=\"https://github.com/tonylaioffer/stock-prediction-lstm-using-keras/raw/master/images/timeseries_windowing_training.gif\" width=600 height=288/>\n",
        "\n",
        "For example - using a window of size T = 5 (as illustrated in the gif above) we produce a set of input/output pairs like the one shown in the table below\n",
        "\n",
        "$$\\begin{array}{c|c}\n",
        "\\text{Input} & \\text{Output}\\\\\n",
        "\\hline \\color{CornflowerBlue} {\\langle s_{1},s_{2},s_{3},s_{4},s_{5}\\rangle} & \\color{Goldenrod}{ s_{6}} \\\\\n",
        "\\ \\color{CornflowerBlue} {\\langle s_{2},s_{3},s_{4},s_{5},s_{6} \\rangle } & \\color{Goldenrod} {s_{7} } \\\\\n",
        "\\color{CornflowerBlue}  {\\vdots} & \\color{Goldenrod} {\\vdots}\\\\\n",
        "\\color{CornflowerBlue} { \\langle s_{P-5},s_{P-4},s_{P-3},s_{P-2},s_{P-1} \\rangle } & \\color{Goldenrod} {s_{P}}\n",
        "\\end{array}$$\n",
        "\n",
        "Notice here that each input is a sequence (or vector) of length 4 (and in general has length equal to the window size T) while each corresponding output is a scalar value.  Notice also how given a time series of length P and window size T = 5 as shown above, we created P - 5  input/output pairs.  More generally, for a window size T we create P - T such pairs.\n",
        "\n",
        "Now let's window the input time series as described above!  "
      ]
    },
    {
      "cell_type": "code",
      "metadata": {
        "id": "pvBLqRvm4L6k"
      },
      "source": [
        "#Create a function to process the data into 7 day look back slices\n",
        "def processData(data, lb):\n",
        "    X, Y = [], []\n",
        "    for i in range(len(data) - lb - 1):\n",
        "        X.append(data[i: (i + lb), 0])\n",
        "        Y.append(data[(i + lb), 0])\n",
        "    return np.array(X), np.array(Y)\n",
        "X, y = processData(dataset_cl, 7)\n"
      ],
      "execution_count": 6,
      "outputs": []
    },
    {
      "cell_type": "markdown",
      "metadata": {
        "id": "yHsQGQ_V42G0"
      },
      "source": [
        "## Step 3: Split training and testing sets\n",
        "\n",
        "In order to perform proper testing on our dataset we will lop off the last 1/3 of it for validation (or testing).  \n",
        "\n",
        "Note how here we are **not** splitting the dataset *randomly* as one typically would do when validating a regression model.  This is because our input/output pairs *are related temporally*.   We don't want to validate our model by training on a random subset of the series and then testing on another random subset, as this simulates the scenario that we receive new points *within the timeframe of our training set*.  \n",
        "\n",
        "We want to train on one solid chunk of the series (in our case, the first full 2/3 of it), and validate on a later chunk (the last 1/3) as this simulates how we would predict *future* values of a time series."
      ]
    },
    {
      "cell_type": "code",
      "metadata": {
        "id": "syFXDlpn45xA",
        "colab": {
          "base_uri": "https://localhost:8080/"
        },
        "outputId": "9c16688b-fcfb-4b37-a98f-e1bf92eb4f0a"
      },
      "source": [
        "X_train, X_test = X[:int(X.shape[0]*0.80)],X[int(X.shape[0]*0.80):]\n",
        "y_train, y_test = y[:int(y.shape[0]*0.80)],y[int(y.shape[0]*0.80):]\n",
        "print(X_train.shape[0])\n",
        "print(X_test.shape[0])\n",
        "print(y_train.shape[0])\n",
        "print(y_test.shape[0])\n",
        "\n",
        "# reshaping\n",
        "X_train = np.reshape(X_train, (X_train.shape[0], 1, X_train.shape[1]))\n",
        "X_test = np.reshape(X_test, (X_test.shape[0], 1, X_test.shape[1]))"
      ],
      "execution_count": 7,
      "outputs": [
        {
          "output_type": "stream",
          "name": "stdout",
          "text": [
            "1000\n",
            "251\n",
            "1000\n",
            "251\n"
          ]
        }
      ]
    },
    {
      "cell_type": "code",
      "metadata": {
        "id": "oPfVnOcm2bTF"
      },
      "source": [
        "# Reshaping\n",
        "# X_train = np.reshape(X_train, (X_train.shape[0], 1, X_train.shape[1]))"
      ],
      "execution_count": 8,
      "outputs": []
    },
    {
      "cell_type": "markdown",
      "metadata": {
        "id": "GMXggue15R41"
      },
      "source": [
        "## Step 4:  Build and run an RNN regression model\n",
        "\n",
        "Having created input/output pairs out of our time series and cut this into training/testing sets, we can now begin setting up our RNN.  We use Keras to quickly build a two hidden layer RNN of the following specifications\n",
        "\n",
        "- layer 1 uses an LSTM module with 5 hidden units (note here the input_shape = (window_size,1))\n",
        "- layer 2 uses a fully connected module with one unit\n",
        "- the 'mean_squared_error' loss should be used"
      ]
    },
    {
      "cell_type": "code",
      "metadata": {
        "id": "HNWryPPg2bTM"
      },
      "source": [
        "class RNN(nn.Module):\n",
        "    def __init__(self, i_size, h_size, n_layers, o_size, dropout=0.1, bidirectional=True):\n",
        "        super(RNN, self).__init__()\n",
        "        self.num_directions = bidirectional+1\n",
        "        self.rnn = nn.LSTM(\n",
        "            input_size=i_size,\n",
        "            hidden_size=h_size,\n",
        "            num_layers=n_layers,\n",
        "            dropout=dropout,\n",
        "            bidirectional=bidirectional\n",
        "        )\n",
        "        self.out = nn.Linear(h_size, o_size)\n",
        "\n",
        "    def forward(self, x, h_state):\n",
        "        r_out, hidden_state = self.rnn(x, h_state)\n",
        "        \n",
        "        hidden_size = hidden_state[-1].size(-1)\n",
        "        r_out = r_out.view(-1, self.num_directions, hidden_size)\n",
        "        outs = self.out(r_out)\n",
        "        \n",
        "        return outs, hidden_state"
      ],
      "execution_count": 9,
      "outputs": []
    },
    {
      "cell_type": "code",
      "metadata": {
        "id": "SwwPpVsK2bTQ"
      },
      "source": [
        "# Globals\n",
        "\n",
        "INPUT_SIZE = 7\n",
        "HIDDEN_SIZE = 64\n",
        "NUM_LAYERS = 3\n",
        "OUTPUT_SIZE = 1\n",
        "BATCH_SIZE = 128\n",
        "# Hyper parameters\n",
        "\n",
        "learning_rate = 0.001\n",
        "num_epochs = 300\n",
        "\n",
        "rnn = RNN(INPUT_SIZE, HIDDEN_SIZE, NUM_LAYERS, OUTPUT_SIZE,bidirectional=False)\n",
        "rnn.cuda()\n",
        "\n",
        "optimiser = torch.optim.Adam(rnn.parameters(), lr=learning_rate)\n",
        "criterion = nn.MSELoss()\n",
        "\n",
        "hidden_state = None"
      ],
      "execution_count": 10,
      "outputs": []
    },
    {
      "cell_type": "code",
      "metadata": {
        "id": "BiQaghDCtNdg",
        "colab": {
          "base_uri": "https://localhost:8080/"
        },
        "outputId": "424e02ef-8bc5-4823-ad24-f8ce662eddfb"
      },
      "source": [
        "rnn"
      ],
      "execution_count": 11,
      "outputs": [
        {
          "output_type": "execute_result",
          "data": {
            "text/plain": [
              "RNN(\n",
              "  (rnn): LSTM(7, 64, num_layers=3, dropout=0.1)\n",
              "  (out): Linear(in_features=64, out_features=1, bias=True)\n",
              ")"
            ]
          },
          "metadata": {},
          "execution_count": 11
        }
      ]
    },
    {
      "cell_type": "code",
      "metadata": {
        "id": "olY5dc_sQ345",
        "colab": {
          "base_uri": "https://localhost:8080/",
          "height": 71
        },
        "outputId": "48102b5c-f300-4115-a9fe-6007ee2acc2a"
      },
      "source": [
        "\"\"\"\n",
        "class StockDataset(Dataset):\n",
        "    \n",
        "    def __init__(self, X_dataset, Y_dataset):\n",
        "        \n",
        "        self.X_dataset = torch.from_numpy(X_dataset)\n",
        "        self.Y_dataset = torch.from_numpy(Y_dataset)\n",
        "        \n",
        "    def __len__(self):\n",
        "        return np.shape(self.Y_dataset)[0]\n",
        "\n",
        "    def __getitem__(self, idx):\n",
        "        \n",
        "        sample = {'Sequence': self.X_dataset[:,idx,:], \"Target\": self.Y_dataset[idx]}\n",
        "      \n",
        "\n",
        "        return sample\n",
        "\"\"\""
      ],
      "execution_count": 12,
      "outputs": [
        {
          "output_type": "execute_result",
          "data": {
            "text/plain": [
              "'\\nclass StockDataset(Dataset):\\n    \\n    def __init__(self, X_dataset, Y_dataset):\\n        \\n        self.X_dataset = torch.from_numpy(X_dataset)\\n        self.Y_dataset = torch.from_numpy(Y_dataset)\\n        \\n    def __len__(self):\\n        return np.shape(self.Y_dataset)[0]\\n\\n    def __getitem__(self, idx):\\n        \\n        sample = {\\'Sequence\\': self.X_dataset[:,idx,:], \"Target\": self.Y_dataset[idx]}\\n      \\n\\n        return sample\\n'"
            ],
            "application/vnd.google.colaboratory.intrinsic+json": {
              "type": "string"
            }
          },
          "metadata": {},
          "execution_count": 12
        }
      ]
    },
    {
      "cell_type": "code",
      "metadata": {
        "id": "de3JU38uRp-S"
      },
      "source": [
        "# Train_ds=StockDataset(X_train, y_train)"
      ],
      "execution_count": 13,
      "outputs": []
    },
    {
      "cell_type": "code",
      "metadata": {
        "id": "QlRhF5JP2bTX",
        "colab": {
          "base_uri": "https://localhost:8080/"
        },
        "outputId": "974ca3b8-12aa-4c9b-e024-0f72a44073d6"
      },
      "source": [
        "history = []\n",
        "X_test_cuda = torch.tensor(X_test).float().cuda()\n",
        "y_test_cuda = torch.tensor(y_test).float().cuda()\n",
        "\n",
        "# we use all the data in one batch\n",
        "inputs_cuda = torch.tensor(X_train).float().cuda()\n",
        "labels_cuda = torch.tensor(y_train).float().cuda()\n",
        "\n",
        "for epoch in range(num_epochs):\n",
        "    rnn.train()\n",
        "    output, _ = rnn(inputs_cuda, hidden_state) \n",
        "    # print(output.size())\n",
        "\n",
        "    loss = criterion(output[:,0,:].view(-1), labels_cuda)\n",
        "    optimiser.zero_grad()\n",
        "    loss.backward()                     # back propagation\n",
        "    optimiser.step()                    # update the parameters\n",
        "    \n",
        "    if epoch % 20 == 0:\n",
        "        rnn.eval()\n",
        "        test_output, _ = rnn(X_test_cuda, hidden_state)\n",
        "        test_loss = criterion(test_output.view(-1), y_test_cuda)\n",
        "        print('epoch {}, loss {}, eval loss {}'.format(epoch, loss.item(), test_loss.item()))\n",
        "    else:\n",
        "        print('epoch {}, loss {}'.format(epoch, loss.item()))\n",
        "    history.append(loss.item())"
      ],
      "execution_count": 14,
      "outputs": [
        {
          "output_type": "stream",
          "name": "stdout",
          "text": [
            "epoch 0, loss 0.3232293128967285, eval loss 0.8378288745880127\n",
            "epoch 1, loss 0.29754775762557983\n",
            "epoch 2, loss 0.2735203802585602\n",
            "epoch 3, loss 0.24962224066257477\n",
            "epoch 4, loss 0.22626367211341858\n",
            "epoch 5, loss 0.20161187648773193\n",
            "epoch 6, loss 0.17636527121067047\n",
            "epoch 7, loss 0.1495862454175949\n",
            "epoch 8, loss 0.12132729589939117\n",
            "epoch 9, loss 0.09278332442045212\n",
            "epoch 10, loss 0.0652356892824173\n",
            "epoch 11, loss 0.04588335007429123\n",
            "epoch 12, loss 0.049771372228860855\n",
            "epoch 13, loss 0.07456307858228683\n",
            "epoch 14, loss 0.07679608464241028\n",
            "epoch 15, loss 0.06306397169828415\n",
            "epoch 16, loss 0.047061339020729065\n",
            "epoch 17, loss 0.039159853011369705\n",
            "epoch 18, loss 0.03773563727736473\n",
            "epoch 19, loss 0.03922806307673454\n",
            "epoch 20, loss 0.0413096658885479, eval loss 0.15382833778858185\n",
            "epoch 21, loss 0.04191012308001518\n",
            "epoch 22, loss 0.041773516684770584\n",
            "epoch 23, loss 0.040083736181259155\n",
            "epoch 24, loss 0.03661750257015228\n",
            "epoch 25, loss 0.03154730424284935\n",
            "epoch 26, loss 0.026180477812886238\n",
            "epoch 27, loss 0.020665811374783516\n",
            "epoch 28, loss 0.017976434901356697\n",
            "epoch 29, loss 0.01751633547246456\n",
            "epoch 30, loss 0.0195472314953804\n",
            "epoch 31, loss 0.020995233207941055\n",
            "epoch 32, loss 0.018427854403853416\n",
            "epoch 33, loss 0.01369167398661375\n",
            "epoch 34, loss 0.009832851588726044\n",
            "epoch 35, loss 0.008653665892779827\n",
            "epoch 36, loss 0.008729715831577778\n",
            "epoch 37, loss 0.009099568240344524\n",
            "epoch 38, loss 0.008698549121618271\n",
            "epoch 39, loss 0.007858759723603725\n",
            "epoch 40, loss 0.005836044438183308, eval loss 0.013707775622606277\n",
            "epoch 41, loss 0.004212562460452318\n",
            "epoch 42, loss 0.003685923293232918\n",
            "epoch 43, loss 0.004723181948065758\n",
            "epoch 44, loss 0.006130398716777563\n",
            "epoch 45, loss 0.004998220596462488\n",
            "epoch 46, loss 0.0034880363382399082\n",
            "epoch 47, loss 0.0030905078165233135\n",
            "epoch 48, loss 0.003691115416586399\n",
            "epoch 49, loss 0.004343803506344557\n",
            "epoch 50, loss 0.004163513425737619\n",
            "epoch 51, loss 0.0038582952693104744\n",
            "epoch 52, loss 0.0033674570731818676\n",
            "epoch 53, loss 0.003107465337961912\n",
            "epoch 54, loss 0.0031699566170573235\n",
            "epoch 55, loss 0.0037819554563611746\n",
            "epoch 56, loss 0.0033745768014341593\n",
            "epoch 57, loss 0.0030274512246251106\n",
            "epoch 58, loss 0.002999782795086503\n",
            "epoch 59, loss 0.0029311934486031532\n",
            "epoch 60, loss 0.003286088351160288, eval loss 0.013825207948684692\n",
            "epoch 61, loss 0.002937964629381895\n",
            "epoch 62, loss 0.0027207578532397747\n",
            "epoch 63, loss 0.002552503254264593\n",
            "epoch 64, loss 0.0026781775522977114\n",
            "epoch 65, loss 0.002684097969904542\n",
            "epoch 66, loss 0.002628321759402752\n",
            "epoch 67, loss 0.002813894534483552\n",
            "epoch 68, loss 0.0026238425634801388\n",
            "epoch 69, loss 0.002442999044433236\n",
            "epoch 70, loss 0.002567427698522806\n",
            "epoch 71, loss 0.002428170293569565\n",
            "epoch 72, loss 0.0026744105853140354\n",
            "epoch 73, loss 0.0023438874632120132\n",
            "epoch 74, loss 0.002388199558481574\n",
            "epoch 75, loss 0.002617724472656846\n",
            "epoch 76, loss 0.0025747071485966444\n",
            "epoch 77, loss 0.002311956835910678\n",
            "epoch 78, loss 0.002361519495025277\n",
            "epoch 79, loss 0.002491355175152421\n",
            "epoch 80, loss 0.002302109729498625, eval loss 0.01167833898216486\n",
            "epoch 81, loss 0.0024158151354640722\n",
            "epoch 82, loss 0.0023519517853856087\n",
            "epoch 83, loss 0.002260604640468955\n",
            "epoch 84, loss 0.0022046449594199657\n",
            "epoch 85, loss 0.0023752544075250626\n",
            "epoch 86, loss 0.0022229414898902178\n",
            "epoch 87, loss 0.0023076138459146023\n",
            "epoch 88, loss 0.002270916011184454\n",
            "epoch 89, loss 0.0022256909869611263\n",
            "epoch 90, loss 0.0022493908181786537\n",
            "epoch 91, loss 0.0023639884311705828\n",
            "epoch 92, loss 0.0022364805918186903\n",
            "epoch 93, loss 0.002431027125567198\n",
            "epoch 94, loss 0.002155993366613984\n",
            "epoch 95, loss 0.002116492483764887\n",
            "epoch 96, loss 0.0020273015834391117\n",
            "epoch 97, loss 0.002099311910569668\n",
            "epoch 98, loss 0.002095649251714349\n",
            "epoch 99, loss 0.002257969928905368\n",
            "epoch 100, loss 0.0021833039354532957, eval loss 0.010885393247008324\n",
            "epoch 101, loss 0.0020276368595659733\n",
            "epoch 102, loss 0.002192938467487693\n",
            "epoch 103, loss 0.002201823517680168\n",
            "epoch 104, loss 0.002114210743457079\n",
            "epoch 105, loss 0.0023057181388139725\n",
            "epoch 106, loss 0.0020182293374091387\n",
            "epoch 107, loss 0.0019796681590378284\n",
            "epoch 108, loss 0.00210263067856431\n",
            "epoch 109, loss 0.0020623840391635895\n",
            "epoch 110, loss 0.0021728898864239454\n",
            "epoch 111, loss 0.001975435297936201\n",
            "epoch 112, loss 0.0020868792198598385\n",
            "epoch 113, loss 0.0021768175065517426\n",
            "epoch 114, loss 0.001908649574033916\n",
            "epoch 115, loss 0.0022676901426166296\n",
            "epoch 116, loss 0.002030327683314681\n",
            "epoch 117, loss 0.002230964368209243\n",
            "epoch 118, loss 0.001980324974283576\n",
            "epoch 119, loss 0.0019263915019109845\n",
            "epoch 120, loss 0.00215868279337883, eval loss 0.010049044154584408\n",
            "epoch 121, loss 0.0020266191568225622\n",
            "epoch 122, loss 0.002167436992749572\n",
            "epoch 123, loss 0.001984464703127742\n",
            "epoch 124, loss 0.0020070092286914587\n",
            "epoch 125, loss 0.0019162193639203906\n",
            "epoch 126, loss 0.0019957488402724266\n",
            "epoch 127, loss 0.002038737526163459\n",
            "epoch 128, loss 0.0019951097201555967\n",
            "epoch 129, loss 0.001978399697691202\n",
            "epoch 130, loss 0.0020123773720115423\n",
            "epoch 131, loss 0.00197987980209291\n",
            "epoch 132, loss 0.001930502476170659\n",
            "epoch 133, loss 0.0020019104704260826\n",
            "epoch 134, loss 0.0018802210688591003\n",
            "epoch 135, loss 0.001914468128234148\n",
            "epoch 136, loss 0.001896548317745328\n",
            "epoch 137, loss 0.0018496684497222304\n",
            "epoch 138, loss 0.0017988557228818536\n",
            "epoch 139, loss 0.0020864331163465977\n",
            "epoch 140, loss 0.0020613791421055794, eval loss 0.009250450879335403\n",
            "epoch 141, loss 0.001880344352684915\n",
            "epoch 142, loss 0.0018740390660241246\n",
            "epoch 143, loss 0.001987615367397666\n",
            "epoch 144, loss 0.0018482394516468048\n",
            "epoch 145, loss 0.0018083462491631508\n",
            "epoch 146, loss 0.001987188821658492\n",
            "epoch 147, loss 0.0018426049500703812\n",
            "epoch 148, loss 0.001877726404927671\n",
            "epoch 149, loss 0.0018582182237878442\n",
            "epoch 150, loss 0.001996374223381281\n",
            "epoch 151, loss 0.00195711525157094\n",
            "epoch 152, loss 0.0018849221523851156\n",
            "epoch 153, loss 0.001873242435976863\n",
            "epoch 154, loss 0.0019390828674659133\n",
            "epoch 155, loss 0.0017997523536905646\n",
            "epoch 156, loss 0.0018143485067412257\n",
            "epoch 157, loss 0.0018952295649796724\n",
            "epoch 158, loss 0.0018160094041377306\n",
            "epoch 159, loss 0.001835391391068697\n",
            "epoch 160, loss 0.0017067245207726955, eval loss 0.008771535009145737\n",
            "epoch 161, loss 0.0020900045055896044\n",
            "epoch 162, loss 0.0019045337103307247\n",
            "epoch 163, loss 0.001831461675465107\n",
            "epoch 164, loss 0.0018155468860641122\n",
            "epoch 165, loss 0.0017945985309779644\n",
            "epoch 166, loss 0.001782974461093545\n",
            "epoch 167, loss 0.0020745624788105488\n",
            "epoch 168, loss 0.001909080077894032\n",
            "epoch 169, loss 0.0018572085537016392\n",
            "epoch 170, loss 0.0017315845470875502\n",
            "epoch 171, loss 0.0017648458015173674\n",
            "epoch 172, loss 0.0016615665517747402\n",
            "epoch 173, loss 0.0017920963000506163\n",
            "epoch 174, loss 0.0018327238503843546\n",
            "epoch 175, loss 0.0018847808241844177\n",
            "epoch 176, loss 0.0018514441326260567\n",
            "epoch 177, loss 0.0019290657946839929\n",
            "epoch 178, loss 0.001796202384866774\n",
            "epoch 179, loss 0.001739579951390624\n",
            "epoch 180, loss 0.0017356921453028917, eval loss 0.008551024831831455\n",
            "epoch 181, loss 0.0018666224787011743\n",
            "epoch 182, loss 0.0017576871905475855\n",
            "epoch 183, loss 0.001637923764064908\n",
            "epoch 184, loss 0.0016591241583228111\n",
            "epoch 185, loss 0.0016210685716941953\n",
            "epoch 186, loss 0.0017621272709220648\n",
            "epoch 187, loss 0.0015927900094538927\n",
            "epoch 188, loss 0.001624510157853365\n",
            "epoch 189, loss 0.001649382640607655\n",
            "epoch 190, loss 0.0017878558719530702\n",
            "epoch 191, loss 0.0019260405097156763\n",
            "epoch 192, loss 0.0018735576886683702\n",
            "epoch 193, loss 0.001762172905728221\n",
            "epoch 194, loss 0.0017306474037468433\n",
            "epoch 195, loss 0.0017063854029402137\n",
            "epoch 196, loss 0.0018514589173719287\n",
            "epoch 197, loss 0.0018382741836830974\n",
            "epoch 198, loss 0.0017382886726409197\n",
            "epoch 199, loss 0.001765216700732708\n",
            "epoch 200, loss 0.0016104491660371423, eval loss 0.00862699095159769\n",
            "epoch 201, loss 0.001671787817031145\n",
            "epoch 202, loss 0.0016876220470294356\n",
            "epoch 203, loss 0.0016035625012591481\n",
            "epoch 204, loss 0.001760713872499764\n",
            "epoch 205, loss 0.0016544237732887268\n",
            "epoch 206, loss 0.0016505467938259244\n",
            "epoch 207, loss 0.001579456147737801\n",
            "epoch 208, loss 0.0017391237197443843\n",
            "epoch 209, loss 0.0016045435331761837\n",
            "epoch 210, loss 0.0016363953473046422\n",
            "epoch 211, loss 0.0017880774103105068\n",
            "epoch 212, loss 0.0016862694174051285\n",
            "epoch 213, loss 0.0018194655422121286\n",
            "epoch 214, loss 0.0017858442151919007\n",
            "epoch 215, loss 0.0018183348001912236\n",
            "epoch 216, loss 0.0016902757342904806\n",
            "epoch 217, loss 0.0015987148508429527\n",
            "epoch 218, loss 0.001529982197098434\n",
            "epoch 219, loss 0.0016702519496902823\n",
            "epoch 220, loss 0.0016657713567838073, eval loss 0.008480275049805641\n",
            "epoch 221, loss 0.0017331314738839865\n",
            "epoch 222, loss 0.0016035869484767318\n",
            "epoch 223, loss 0.0018881699070334435\n",
            "epoch 224, loss 0.001742235035635531\n",
            "epoch 225, loss 0.0017017448553815484\n",
            "epoch 226, loss 0.001689532189629972\n",
            "epoch 227, loss 0.0016130993608385324\n",
            "epoch 228, loss 0.0015600023325532675\n",
            "epoch 229, loss 0.0016075310995802283\n",
            "epoch 230, loss 0.0016128874849528074\n",
            "epoch 231, loss 0.0017652646638453007\n",
            "epoch 232, loss 0.0016800810117274523\n",
            "epoch 233, loss 0.0015607582172378898\n",
            "epoch 234, loss 0.001813387731090188\n",
            "epoch 235, loss 0.001658170367591083\n",
            "epoch 236, loss 0.0014783802907913923\n",
            "epoch 237, loss 0.0016494840383529663\n",
            "epoch 238, loss 0.001613872591406107\n",
            "epoch 239, loss 0.0017856155754998326\n",
            "epoch 240, loss 0.0016907973913475871, eval loss 0.007862313650548458\n",
            "epoch 241, loss 0.0016353885876014829\n",
            "epoch 242, loss 0.0015991562977433205\n",
            "epoch 243, loss 0.0016414051642641425\n",
            "epoch 244, loss 0.001664409413933754\n",
            "epoch 245, loss 0.0017640214646235108\n",
            "epoch 246, loss 0.0017922540428116918\n",
            "epoch 247, loss 0.0017389771528542042\n",
            "epoch 248, loss 0.0016428476665169\n",
            "epoch 249, loss 0.0015511875972151756\n",
            "epoch 250, loss 0.001550205866806209\n",
            "epoch 251, loss 0.0016785808838903904\n",
            "epoch 252, loss 0.00163274013902992\n",
            "epoch 253, loss 0.00171449885237962\n",
            "epoch 254, loss 0.0015419562114402652\n",
            "epoch 255, loss 0.0016463279025629163\n",
            "epoch 256, loss 0.0018625851953402162\n",
            "epoch 257, loss 0.0018001318676397204\n",
            "epoch 258, loss 0.0015219772467389703\n",
            "epoch 259, loss 0.0016407332150265574\n",
            "epoch 260, loss 0.0015990865649655461, eval loss 0.007607942912727594\n",
            "epoch 261, loss 0.0014000523369759321\n",
            "epoch 262, loss 0.0017083496786653996\n",
            "epoch 263, loss 0.001540803350508213\n",
            "epoch 264, loss 0.0014696018770337105\n",
            "epoch 265, loss 0.001564624602906406\n",
            "epoch 266, loss 0.0014693059492856264\n",
            "epoch 267, loss 0.0015167556703090668\n",
            "epoch 268, loss 0.0015292856842279434\n",
            "epoch 269, loss 0.0017162924632430077\n",
            "epoch 270, loss 0.0016003652708604932\n",
            "epoch 271, loss 0.0014083520509302616\n",
            "epoch 272, loss 0.001568148727528751\n",
            "epoch 273, loss 0.001431838027201593\n",
            "epoch 274, loss 0.001588845276273787\n",
            "epoch 275, loss 0.0014891214668750763\n",
            "epoch 276, loss 0.0016450918046757579\n",
            "epoch 277, loss 0.0015593846328556538\n",
            "epoch 278, loss 0.0015338443918153644\n",
            "epoch 279, loss 0.0014550057239830494\n",
            "epoch 280, loss 0.0014956156956031919, eval loss 0.0076967086642980576\n",
            "epoch 281, loss 0.0016156584024429321\n",
            "epoch 282, loss 0.0015533729456365108\n",
            "epoch 283, loss 0.0015921159647405148\n",
            "epoch 284, loss 0.0014366486575454473\n",
            "epoch 285, loss 0.0015558423474431038\n",
            "epoch 286, loss 0.0015442632138729095\n",
            "epoch 287, loss 0.0017438011709600687\n",
            "epoch 288, loss 0.0015284694964066148\n",
            "epoch 289, loss 0.0015328158624470234\n",
            "epoch 290, loss 0.0016336378175765276\n",
            "epoch 291, loss 0.0016076129395514727\n",
            "epoch 292, loss 0.00141506502404809\n",
            "epoch 293, loss 0.0015202516224235296\n",
            "epoch 294, loss 0.0015796003863215446\n",
            "epoch 295, loss 0.0016184081323444843\n",
            "epoch 296, loss 0.0017302545020356774\n",
            "epoch 297, loss 0.0014796026516705751\n",
            "epoch 298, loss 0.0014881864190101624\n",
            "epoch 299, loss 0.0016011596890166402\n"
          ]
        }
      ]
    },
    {
      "cell_type": "code",
      "metadata": {
        "id": "7jxit4ppO9Q4",
        "colab": {
          "base_uri": "https://localhost:8080/"
        },
        "outputId": "e2ef4865-936a-4516-dafa-26c301d054a1"
      },
      "source": [
        "rnn.out.weight "
      ],
      "execution_count": 15,
      "outputs": [
        {
          "output_type": "execute_result",
          "data": {
            "text/plain": [
              "Parameter containing:\n",
              "tensor([[-0.0298, -0.0362, -0.0942, -0.0898,  0.0135, -0.1276,  0.1126, -0.0627,\n",
              "         -0.0047, -0.0732, -0.0849, -0.0157, -0.0456, -0.0602, -0.0606,  0.0242,\n",
              "          0.0723,  0.1154,  0.0640,  0.0201, -0.0195, -0.0350,  0.0859,  0.0135,\n",
              "          0.0045, -0.0514,  0.0421,  0.0725, -0.1288,  0.0138,  0.0639,  0.0359,\n",
              "          0.1183,  0.1172, -0.0541, -0.0700, -0.0303, -0.0412, -0.1234, -0.0870,\n",
              "         -0.0581, -0.0710,  0.0470,  0.1167,  0.0603,  0.0695, -0.0706, -0.0328,\n",
              "          0.0548, -0.1083,  0.0156,  0.0142,  0.0876,  0.0023, -0.1295,  0.0392,\n",
              "          0.1027,  0.0747, -0.0076, -0.0179, -0.0178, -0.1025, -0.1360,  0.0677]],\n",
              "       device='cuda:0', requires_grad=True)"
            ]
          },
          "metadata": {},
          "execution_count": 15
        }
      ]
    },
    {
      "cell_type": "code",
      "metadata": {
        "id": "4SysHfTsOtPz",
        "colab": {
          "base_uri": "https://localhost:8080/"
        },
        "outputId": "ba9c4013-7805-4a89-e458-4f836bc06007"
      },
      "source": [
        "for param in rnn.parameters():\n",
        "    print(param.data)"
      ],
      "execution_count": 16,
      "outputs": [
        {
          "output_type": "stream",
          "name": "stdout",
          "text": [
            "tensor([[-2.0023e-02, -1.0453e-01,  6.3614e-02,  ..., -5.8035e-02,\n",
            "          1.0728e-01,  1.0532e-01],\n",
            "        [ 7.3676e-02,  9.8582e-04, -4.9736e-05,  ...,  1.2427e-01,\n",
            "          2.4157e-02, -9.9196e-03],\n",
            "        [ 3.6975e-02,  1.0196e-01,  1.5247e-01,  ...,  1.2197e-01,\n",
            "         -6.7796e-03,  1.7481e-02],\n",
            "        ...,\n",
            "        [ 3.4377e-03,  7.1019e-02,  6.6981e-02,  ..., -8.3971e-04,\n",
            "          6.3210e-02, -4.9542e-02],\n",
            "        [-2.0227e-02,  7.4958e-02, -1.2046e-01,  ..., -9.1711e-02,\n",
            "          8.2197e-02, -5.5652e-02],\n",
            "        [-8.3375e-02,  1.5648e-02,  3.6320e-02,  ..., -8.1901e-02,\n",
            "          8.9045e-02,  8.2853e-02]], device='cuda:0')\n",
            "tensor([[-0.0641,  0.0533, -0.1165,  ...,  0.0769, -0.1085, -0.0229],\n",
            "        [-0.0810, -0.0653,  0.0586,  ...,  0.0582, -0.0592, -0.0395],\n",
            "        [-0.0887,  0.1017, -0.0656,  ..., -0.0686,  0.0276,  0.0361],\n",
            "        ...,\n",
            "        [-0.0241, -0.1243,  0.0253,  ...,  0.0523,  0.0376, -0.0878],\n",
            "        [ 0.0596, -0.0874, -0.0486,  ..., -0.0650,  0.0972,  0.0143],\n",
            "        [-0.0635,  0.0762,  0.1095,  ...,  0.1179, -0.0388,  0.0675]],\n",
            "       device='cuda:0')\n",
            "tensor([-8.9381e-02,  6.7598e-02, -4.0324e-02, -2.6247e-02, -3.7408e-02,\n",
            "         6.8169e-02, -6.8417e-02,  9.2320e-03,  2.3609e-02, -7.5446e-02,\n",
            "         5.9107e-02,  6.7727e-02,  5.2874e-03, -1.4010e-02, -2.6924e-02,\n",
            "         4.0004e-02, -5.7529e-02,  4.9330e-02,  1.1963e-01,  8.4653e-02,\n",
            "        -1.2361e-01, -3.1527e-02,  1.7290e-02,  6.2688e-02,  1.3175e-02,\n",
            "         1.6953e-02,  7.6716e-02,  4.7061e-02,  1.4964e-02, -3.5577e-02,\n",
            "         3.4082e-03,  7.6651e-02, -3.2681e-02, -9.1508e-02,  1.0809e-01,\n",
            "         4.6012e-02,  1.0951e-01,  7.7742e-02, -1.1274e-01,  8.2320e-02,\n",
            "        -5.8604e-02, -9.3957e-02,  1.2376e-01,  4.5913e-02,  9.7265e-02,\n",
            "        -1.3821e-01,  4.9219e-02, -1.3572e-01,  1.4256e-01,  1.1304e-01,\n",
            "         9.4447e-03,  8.2154e-02,  1.0901e-01,  1.3988e-02, -1.0011e-01,\n",
            "        -5.2995e-02, -8.4414e-02, -6.7605e-02,  6.0918e-02,  2.2211e-02,\n",
            "         9.0759e-02, -7.9807e-02, -8.9128e-02,  9.4807e-02,  3.3974e-02,\n",
            "        -7.6711e-02,  2.8365e-02, -1.9715e-02,  1.0806e-01, -4.1145e-02,\n",
            "         1.5740e-02,  1.9804e-02,  1.2495e-01,  1.0995e-01,  5.6779e-02,\n",
            "         9.1007e-02, -1.7263e-02,  1.0392e-02, -6.5376e-02, -5.3317e-02,\n",
            "        -1.1221e-01, -6.8683e-02,  1.1884e-01,  1.2316e-01, -5.3652e-02,\n",
            "        -4.1283e-02,  8.8258e-02, -7.9077e-03, -1.4791e-02,  5.9970e-02,\n",
            "        -6.8354e-02,  9.4275e-02,  2.0033e-03, -2.6954e-02, -8.4449e-02,\n",
            "        -3.4956e-02, -1.1561e-01,  9.1716e-02, -9.0666e-02,  2.4091e-02,\n",
            "        -6.6596e-03, -5.2630e-02, -1.3309e-01, -1.0498e-01,  5.3970e-02,\n",
            "         2.3059e-02,  1.7132e-02,  9.1559e-02,  5.2704e-03,  1.0542e-01,\n",
            "        -6.2196e-02, -9.6223e-02,  5.5518e-03,  5.1211e-02, -1.6574e-02,\n",
            "        -1.1419e-01,  7.8555e-03, -1.0506e-02,  9.0579e-02, -1.0635e-01,\n",
            "         3.5111e-02, -1.5221e-02, -7.8675e-02, -4.2417e-02,  6.0556e-02,\n",
            "        -1.3687e-03, -3.2349e-03, -6.0613e-02, -1.5872e-02,  7.0037e-02,\n",
            "        -9.4556e-02, -1.1939e-01, -7.2974e-02, -7.5095e-03,  9.7522e-02,\n",
            "        -7.6117e-02, -1.9510e-03, -4.4448e-02, -1.0372e-01,  7.2736e-02,\n",
            "        -9.0965e-02,  7.0416e-02, -7.9508e-02, -6.6298e-02, -1.1508e-01,\n",
            "         4.2559e-02,  4.1000e-02,  9.5032e-02,  3.0512e-03, -9.5168e-02,\n",
            "        -5.5466e-02,  3.3731e-02, -9.7852e-03,  9.8458e-05,  1.3851e-01,\n",
            "        -5.2291e-02, -6.8976e-02, -7.2268e-02, -3.1651e-02, -8.7224e-02,\n",
            "        -2.4028e-02,  1.0882e-03,  6.8097e-02,  9.2521e-03,  8.0672e-02,\n",
            "        -7.4099e-02, -7.4051e-02,  9.8217e-02,  3.8353e-02, -1.0041e-01,\n",
            "        -6.5003e-02,  1.6472e-02,  8.8145e-02,  5.3662e-03, -4.9293e-02,\n",
            "        -8.3241e-02,  1.1963e-01, -4.4179e-02,  1.6503e-02,  1.2673e-01,\n",
            "        -9.1272e-02,  8.6097e-02,  9.9587e-02,  7.7650e-02, -1.2952e-02,\n",
            "         6.7396e-03, -1.1526e-01, -2.6624e-02, -1.3981e-02, -5.7474e-02,\n",
            "         3.3590e-02, -2.2305e-03,  8.4274e-02,  2.8046e-02,  8.8877e-02,\n",
            "         8.9018e-02,  9.5961e-02,  7.4837e-02,  7.0075e-02,  1.0096e-01,\n",
            "         5.1335e-02, -1.1553e-01, -9.1205e-02, -2.1758e-02,  9.8344e-02,\n",
            "        -4.2706e-02, -3.3183e-02, -7.8011e-02, -7.4032e-02, -8.9467e-02,\n",
            "         2.5073e-02,  9.4580e-02, -3.9463e-02,  1.9745e-02, -1.1478e-01,\n",
            "         1.0643e-01, -4.5535e-02,  8.7189e-02,  3.1872e-02,  1.2608e-03,\n",
            "         8.2377e-02,  1.7026e-02, -1.8756e-03,  1.0638e-01,  1.0707e-01,\n",
            "        -1.0370e-02,  1.1731e-01, -8.7019e-02, -1.0670e-01,  7.8201e-02,\n",
            "         9.1306e-02, -2.4930e-02, -9.3377e-02, -1.7021e-02,  9.3836e-02,\n",
            "        -2.3401e-03, -2.4394e-02, -5.3903e-02, -8.4380e-02, -1.3744e-01,\n",
            "         6.9655e-02, -8.1435e-02,  2.0704e-02, -1.2338e-01, -4.3020e-02,\n",
            "        -1.2028e-01,  1.1443e-01,  1.0847e-01,  1.0394e-01,  3.5489e-02,\n",
            "        -5.7371e-02,  6.2190e-02,  4.9498e-04,  4.6015e-02, -8.0020e-02,\n",
            "         4.7384e-02], device='cuda:0')\n",
            "tensor([-0.1290, -0.0613, -0.0632,  0.0646,  0.0210,  0.0497,  0.0745, -0.0487,\n",
            "         0.1305,  0.0928,  0.0759, -0.0823, -0.0242, -0.0437,  0.1071, -0.0691,\n",
            "         0.0359, -0.0469,  0.0573, -0.0133, -0.1228, -0.0405,  0.1065,  0.0525,\n",
            "         0.1028,  0.0613,  0.1309,  0.0976,  0.1071, -0.0183, -0.0790, -0.0726,\n",
            "         0.0688, -0.0848,  0.0104,  0.1111, -0.0536,  0.0653, -0.1138, -0.0910,\n",
            "         0.0862,  0.0210, -0.0131, -0.1095,  0.1098,  0.0639, -0.0550, -0.0554,\n",
            "        -0.0330,  0.0868,  0.0421,  0.0279,  0.0781, -0.1029,  0.0075, -0.0534,\n",
            "         0.0355,  0.0735,  0.0316, -0.1141,  0.1279, -0.0686, -0.0609,  0.0878,\n",
            "        -0.0991,  0.1334, -0.0200, -0.0825, -0.0144, -0.0155,  0.0854,  0.0559,\n",
            "         0.1171, -0.0455,  0.0127, -0.0775, -0.1132,  0.0052, -0.0595, -0.0801,\n",
            "         0.0337, -0.0874,  0.0583, -0.0126,  0.0611, -0.0754, -0.0861, -0.1042,\n",
            "        -0.0369, -0.0048, -0.0420, -0.1031, -0.0129,  0.0351,  0.0280, -0.0504,\n",
            "         0.0545, -0.0591,  0.1408,  0.1063, -0.0742, -0.0242,  0.0486, -0.0666,\n",
            "        -0.0042, -0.0677, -0.0513, -0.0259, -0.1203, -0.0623,  0.1309, -0.1085,\n",
            "        -0.0556,  0.1197, -0.1007, -0.0098,  0.0239, -0.0375,  0.0583,  0.0048,\n",
            "         0.0941, -0.0133,  0.0536, -0.1108, -0.0489,  0.1141,  0.0311,  0.0644,\n",
            "        -0.0985,  0.0998,  0.0380,  0.0318, -0.0947,  0.0029,  0.1073,  0.0729,\n",
            "        -0.0380,  0.0927,  0.0125,  0.0935,  0.0905, -0.0767, -0.0680,  0.0569,\n",
            "        -0.0495,  0.0629,  0.0114, -0.1472, -0.0089, -0.0391,  0.0602, -0.0292,\n",
            "        -0.0537, -0.0070,  0.0390,  0.0265, -0.0620,  0.0918,  0.1122, -0.0159,\n",
            "        -0.0631, -0.0269,  0.0638, -0.0600, -0.0240,  0.0979,  0.0061, -0.0397,\n",
            "         0.0424,  0.0912,  0.0258,  0.0269,  0.0186,  0.0407,  0.0908,  0.0485,\n",
            "        -0.0548, -0.0878,  0.0306,  0.0788, -0.0759, -0.0049, -0.0314, -0.0517,\n",
            "         0.0458, -0.0717, -0.0905,  0.1017,  0.0903, -0.0449,  0.0337, -0.1066,\n",
            "        -0.1355, -0.0509,  0.1259,  0.1356, -0.1118, -0.0018,  0.0553, -0.0176,\n",
            "         0.1146, -0.1011,  0.1100, -0.0683,  0.0194,  0.1056,  0.1160, -0.0635,\n",
            "        -0.0192,  0.0003,  0.0297, -0.0812,  0.0122,  0.0050, -0.0576, -0.0360,\n",
            "        -0.0846, -0.0487, -0.0063, -0.1097,  0.1186, -0.0733,  0.0509,  0.0940,\n",
            "        -0.1061, -0.1030,  0.1360, -0.0924,  0.0178,  0.0298, -0.0984,  0.0908,\n",
            "         0.1293, -0.0076, -0.0046,  0.1293, -0.0548,  0.0331,  0.1455, -0.1270,\n",
            "         0.0215,  0.0384,  0.0100,  0.1156,  0.1237, -0.0592, -0.0112, -0.0546,\n",
            "         0.1039,  0.1016, -0.0459,  0.0268, -0.0859, -0.0237,  0.0688,  0.0927],\n",
            "       device='cuda:0')\n",
            "tensor([[-0.0158,  0.1219,  0.0738,  ...,  0.0648,  0.1234, -0.0909],\n",
            "        [-0.0582,  0.0704, -0.0690,  ..., -0.0903,  0.0539,  0.0558],\n",
            "        [ 0.0931, -0.1135, -0.0480,  ..., -0.0994,  0.0458,  0.0616],\n",
            "        ...,\n",
            "        [ 0.0689, -0.0084, -0.1300,  ...,  0.0564, -0.0139, -0.1225],\n",
            "        [ 0.0982,  0.0396,  0.0608,  ..., -0.0448, -0.0244,  0.0500],\n",
            "        [ 0.0374,  0.0809,  0.0512,  ...,  0.0955,  0.0296,  0.1050]],\n",
            "       device='cuda:0')\n",
            "tensor([[-0.0373, -0.1168, -0.0847,  ...,  0.1322,  0.0041, -0.0397],\n",
            "        [ 0.1086, -0.0742,  0.0133,  ...,  0.1266, -0.1085, -0.1221],\n",
            "        [-0.0093,  0.0086, -0.0680,  ...,  0.0146, -0.0218, -0.0264],\n",
            "        ...,\n",
            "        [ 0.0872, -0.0924, -0.0737,  ...,  0.0059,  0.0615, -0.0549],\n",
            "        [ 0.1309,  0.1095,  0.0534,  ...,  0.0813, -0.0908,  0.1540],\n",
            "        [-0.0043, -0.0557, -0.0670,  ...,  0.0779,  0.0500, -0.0078]],\n",
            "       device='cuda:0')\n",
            "tensor([ 6.8432e-05,  5.2713e-02,  6.1254e-02, -1.1608e-01, -1.0139e-01,\n",
            "        -6.2645e-02, -9.4127e-02, -5.5334e-04, -8.4041e-02,  8.0217e-02,\n",
            "        -4.3731e-02,  6.9741e-02,  1.9485e-02,  2.4159e-02,  4.4939e-02,\n",
            "        -1.0943e-01, -6.9147e-02, -9.5842e-02, -8.5421e-02,  1.3628e-02,\n",
            "         7.4815e-02, -5.0831e-02,  5.1840e-02, -1.1516e-01,  2.1153e-02,\n",
            "         7.0344e-02,  8.0770e-02,  3.5852e-02,  1.2505e-01,  4.6086e-02,\n",
            "         2.6316e-04, -1.3317e-01, -7.0369e-02, -9.3779e-02,  6.6694e-03,\n",
            "         2.9444e-02, -4.2207e-02,  1.1236e-01,  1.2191e-02,  1.1950e-01,\n",
            "         4.5644e-02, -6.4066e-02, -4.4495e-02,  1.1823e-01, -6.3896e-02,\n",
            "        -8.1312e-02, -3.3376e-02, -1.9234e-02, -1.1359e-01,  1.6382e-02,\n",
            "         7.6919e-02, -4.1830e-02, -4.8029e-02,  1.5473e-02, -3.0551e-02,\n",
            "         1.3719e-01,  1.7976e-02,  1.3381e-01,  6.3078e-02, -7.1929e-02,\n",
            "        -2.0866e-02,  8.2652e-02, -5.4639e-02, -7.7671e-02, -2.2765e-02,\n",
            "        -8.5966e-02, -2.9495e-02,  6.8700e-02,  4.5804e-02,  9.9509e-02,\n",
            "         1.1036e-01, -1.3265e-02, -5.6657e-04, -5.4734e-02,  2.9610e-02,\n",
            "         6.8566e-02, -1.6114e-02, -1.2535e-01, -1.0674e-01,  7.2087e-02,\n",
            "        -3.6902e-02, -5.0490e-02,  9.5845e-02,  7.2104e-02, -7.1242e-02,\n",
            "        -1.1992e-01, -5.7990e-02, -5.2803e-02,  3.8006e-02, -1.5214e-02,\n",
            "         4.9394e-02, -3.3485e-02,  2.0865e-02,  8.2913e-03, -4.6546e-02,\n",
            "        -3.9219e-02,  1.8505e-02, -8.6244e-02, -1.0466e-01,  1.7122e-02,\n",
            "        -3.9628e-02, -6.8547e-02,  1.8277e-02,  2.1379e-02,  4.9939e-02,\n",
            "        -3.1295e-03,  7.9540e-02,  5.9014e-02,  1.2557e-01, -2.3140e-02,\n",
            "         1.0625e-01,  3.9865e-02,  9.4805e-02,  6.3673e-03, -1.1411e-01,\n",
            "         5.6847e-02,  1.1946e-01,  8.5791e-02,  9.5560e-02, -5.9344e-02,\n",
            "        -8.9167e-02, -3.9812e-02, -3.8420e-02, -2.7434e-02,  9.0352e-02,\n",
            "        -7.8772e-03, -7.0489e-03,  6.0454e-02, -2.8924e-02, -9.4057e-03,\n",
            "        -8.9552e-02,  8.8277e-02,  6.8059e-03,  5.5704e-02, -8.6602e-03,\n",
            "        -8.3655e-02,  1.3002e-01, -1.1547e-02, -5.7639e-02, -4.6721e-02,\n",
            "        -2.6797e-02, -1.7873e-02, -1.7443e-02, -1.0015e-01,  9.3319e-02,\n",
            "         1.0022e-02, -2.6933e-02,  4.0250e-02, -4.0577e-02,  1.9940e-02,\n",
            "         5.1006e-02,  1.7095e-02,  2.7233e-03,  1.1044e-01, -1.0255e-01,\n",
            "         1.0238e-01, -9.2695e-02, -7.4298e-02, -1.5130e-02, -1.1634e-02,\n",
            "        -4.4571e-02,  2.0952e-02,  1.0501e-01, -3.2288e-02,  5.0163e-02,\n",
            "         2.5166e-02,  5.3256e-02,  6.0282e-02,  1.7700e-02, -1.0907e-01,\n",
            "        -1.2429e-01, -9.1011e-02, -9.4888e-02, -2.5940e-02,  5.9813e-02,\n",
            "        -7.6718e-02, -1.1179e-01, -6.1235e-02,  7.5431e-02, -7.8209e-02,\n",
            "        -6.3048e-02,  2.4027e-02,  7.4640e-02,  9.3040e-02, -1.4871e-02,\n",
            "        -5.2419e-02,  3.7451e-02,  4.8784e-02, -7.5956e-02,  2.5185e-02,\n",
            "         1.1591e-01,  6.6731e-02,  6.0390e-03,  6.5546e-02,  6.3528e-02,\n",
            "         9.5336e-02,  6.3978e-02,  3.2664e-02, -7.2749e-02, -9.2520e-03,\n",
            "         1.1968e-01,  3.7806e-02,  2.9207e-02,  1.8586e-02,  6.4182e-02,\n",
            "        -1.0574e-01, -1.0224e-01,  1.3049e-01, -8.6199e-02,  7.2835e-02,\n",
            "        -9.8163e-02,  4.3611e-02,  8.7179e-02,  9.1249e-02, -3.2308e-02,\n",
            "         2.8659e-02, -9.1158e-02, -2.7189e-02, -2.7586e-02,  1.0035e-01,\n",
            "        -3.4014e-02,  1.7228e-01, -3.7580e-02, -9.6355e-02,  1.2530e-01,\n",
            "        -6.7685e-02,  5.6215e-02, -1.1771e-01, -5.0277e-03, -8.4560e-02,\n",
            "         2.6072e-02,  3.8102e-02,  2.7740e-02,  1.2499e-01,  2.5922e-02,\n",
            "        -2.9088e-02,  4.2909e-02, -8.4405e-02,  7.7814e-02,  4.1361e-02,\n",
            "        -1.4194e-02, -1.0981e-01,  1.1183e-01,  4.4700e-02, -3.0040e-02,\n",
            "         1.1971e-01, -9.7378e-03,  1.0317e-01,  4.1100e-02,  4.5755e-02,\n",
            "         9.6226e-02,  5.1594e-02, -3.0800e-02, -4.7836e-02,  1.0815e-02,\n",
            "         4.0980e-02], device='cuda:0')\n",
            "tensor([ 0.0440, -0.0158,  0.0731, -0.1176,  0.0068, -0.1144, -0.0937, -0.0672,\n",
            "        -0.1085,  0.1355, -0.0351,  0.1112,  0.0116, -0.0907,  0.1251, -0.0604,\n",
            "        -0.0527, -0.0575, -0.0912, -0.1157, -0.1082, -0.0356, -0.0613,  0.0259,\n",
            "         0.0900,  0.0314,  0.0218, -0.0257,  0.0293, -0.0347, -0.0189, -0.0974,\n",
            "         0.0200, -0.0891, -0.1121,  0.0270, -0.0506, -0.1062,  0.0404,  0.1212,\n",
            "        -0.0687,  0.0600, -0.0131,  0.0857, -0.0217,  0.0933,  0.0856, -0.0905,\n",
            "        -0.0361,  0.0765,  0.0551,  0.0211,  0.0974,  0.0434, -0.0858,  0.0162,\n",
            "         0.0381, -0.0674,  0.0420, -0.0255, -0.0780, -0.0785,  0.0584, -0.0429,\n",
            "        -0.0642, -0.0060, -0.0687,  0.1039,  0.0292,  0.0077,  0.0502, -0.0385,\n",
            "        -0.0402,  0.1228, -0.0898, -0.0909, -0.0082,  0.0336, -0.0129,  0.0932,\n",
            "        -0.0479, -0.0604,  0.0912, -0.0010,  0.0424,  0.0909,  0.1305, -0.0304,\n",
            "         0.1087, -0.0547,  0.0383,  0.0220,  0.0067,  0.0898, -0.1179,  0.0072,\n",
            "        -0.0610,  0.0603,  0.0542, -0.0899,  0.0910, -0.0525,  0.1235,  0.0733,\n",
            "        -0.0861,  0.0669, -0.0197,  0.0745, -0.0522, -0.0832,  0.0353,  0.0040,\n",
            "        -0.0118, -0.0029, -0.1144,  0.1061,  0.0904,  0.0954, -0.1154, -0.0064,\n",
            "        -0.0789, -0.0138, -0.0783, -0.0361,  0.0120,  0.0483,  0.0106,  0.0510,\n",
            "         0.0290, -0.0157, -0.0617, -0.0773, -0.0150,  0.0825,  0.0737,  0.0037,\n",
            "         0.0042, -0.1194, -0.0719,  0.1237,  0.0902, -0.0306,  0.0221,  0.0827,\n",
            "        -0.1112,  0.0119, -0.0198,  0.1282, -0.0414, -0.0253, -0.0180, -0.0792,\n",
            "        -0.0904,  0.0622,  0.0654,  0.1273,  0.1203,  0.0676,  0.0186,  0.0427,\n",
            "         0.0296, -0.0682, -0.0501, -0.0970, -0.1208,  0.0967, -0.0984,  0.0663,\n",
            "         0.0852, -0.0121,  0.0069, -0.0534, -0.0691,  0.0897,  0.1132, -0.0547,\n",
            "        -0.0919, -0.0429, -0.1050, -0.0716,  0.0572, -0.0110,  0.1029,  0.0518,\n",
            "         0.0522,  0.0618, -0.1105,  0.0324, -0.1163,  0.0801, -0.0318, -0.0778,\n",
            "         0.0099, -0.1145,  0.0475,  0.0009,  0.0433, -0.0142, -0.0628,  0.0431,\n",
            "         0.0700, -0.0824, -0.1308,  0.0524, -0.0707,  0.0317, -0.0832, -0.0960,\n",
            "         0.0555,  0.0243,  0.1057, -0.0330, -0.1012, -0.0059, -0.0037, -0.0173,\n",
            "         0.0993,  0.0779,  0.0475, -0.0271,  0.0491,  0.1801, -0.1137, -0.1149,\n",
            "         0.0080, -0.0656,  0.0163,  0.0729,  0.0790, -0.1197, -0.0166, -0.0518,\n",
            "         0.0670, -0.0777,  0.0778, -0.0977, -0.0043,  0.1200, -0.0231, -0.0293,\n",
            "         0.0341, -0.1005, -0.0336,  0.0192,  0.0207,  0.1180, -0.0386,  0.1122,\n",
            "         0.0472, -0.0978, -0.1125,  0.1074,  0.1260,  0.0992,  0.0265,  0.0820],\n",
            "       device='cuda:0')\n",
            "tensor([[ 0.0297, -0.0019,  0.0078,  ..., -0.0194, -0.0154,  0.0657],\n",
            "        [-0.0531,  0.0820, -0.0817,  ...,  0.0561, -0.0019, -0.0047],\n",
            "        [-0.1148, -0.0438,  0.0752,  ..., -0.1250,  0.0802, -0.0660],\n",
            "        ...,\n",
            "        [-0.0147,  0.0355, -0.1055,  ..., -0.1065, -0.0811, -0.0315],\n",
            "        [ 0.0711, -0.0019,  0.0912,  ..., -0.0909,  0.0906,  0.0786],\n",
            "        [ 0.0643, -0.1201,  0.0679,  ..., -0.0920,  0.0915,  0.0696]],\n",
            "       device='cuda:0')\n",
            "tensor([[ 0.0475,  0.0627,  0.0712,  ...,  0.0189,  0.0739, -0.0702],\n",
            "        [-0.0204,  0.0814, -0.1286,  ...,  0.1109, -0.0241,  0.0960],\n",
            "        [ 0.1264,  0.0930, -0.0226,  ...,  0.0722, -0.0855, -0.0955],\n",
            "        ...,\n",
            "        [ 0.0196, -0.0976,  0.0027,  ...,  0.1051,  0.0327,  0.0405],\n",
            "        [ 0.0461,  0.1265,  0.0991,  ..., -0.0929, -0.0137,  0.0292],\n",
            "        [-0.0732,  0.0294, -0.0626,  ...,  0.0568, -0.0627,  0.1287]],\n",
            "       device='cuda:0')\n",
            "tensor([-0.0664,  0.0395,  0.0529, -0.0844, -0.0378,  0.1094,  0.0161, -0.0936,\n",
            "         0.0909,  0.0350,  0.0164, -0.0400, -0.0927,  0.0007, -0.0749, -0.0646,\n",
            "        -0.0635,  0.0916, -0.0818,  0.0009, -0.1003, -0.0193, -0.0353, -0.0951,\n",
            "        -0.1160,  0.0079, -0.0901,  0.1257,  0.0469, -0.0920,  0.0286,  0.0256,\n",
            "        -0.1071, -0.0636,  0.0327,  0.1014,  0.0537, -0.0827, -0.0196, -0.0301,\n",
            "         0.0954, -0.0717, -0.0721,  0.0044,  0.0808,  0.0777,  0.1269, -0.0032,\n",
            "        -0.0110, -0.0247,  0.1050,  0.0853, -0.0836, -0.0971, -0.0608, -0.0937,\n",
            "         0.0770,  0.0528,  0.0787,  0.0046, -0.1226,  0.0571,  0.0551, -0.0924,\n",
            "         0.0260,  0.0576, -0.0066, -0.0259, -0.1189,  0.1315,  0.1067,  0.1004,\n",
            "        -0.1169,  0.0614, -0.0395,  0.1054,  0.0693,  0.0594, -0.0861, -0.0605,\n",
            "        -0.0578, -0.1232,  0.0890, -0.0638, -0.0719, -0.1219, -0.0448, -0.0246,\n",
            "         0.1138, -0.0238, -0.0401, -0.0968,  0.0361, -0.0639,  0.1026, -0.1085,\n",
            "        -0.0243, -0.0171, -0.0573, -0.0587,  0.0742,  0.0809, -0.0540,  0.0976,\n",
            "        -0.0094,  0.0316, -0.0132,  0.0947,  0.0636,  0.0959, -0.0969, -0.0021,\n",
            "         0.0827, -0.0815, -0.0877,  0.0367, -0.1028, -0.0349,  0.0823,  0.1076,\n",
            "        -0.0474, -0.0939,  0.0634,  0.0292, -0.1100,  0.0255, -0.1082, -0.0452,\n",
            "        -0.0668,  0.0664,  0.0677, -0.0630,  0.1084,  0.0097,  0.0564, -0.1319,\n",
            "         0.0562, -0.0050, -0.1078, -0.0444,  0.0635, -0.0998, -0.0147,  0.1014,\n",
            "        -0.0889, -0.0578, -0.0022,  0.0605,  0.0958,  0.1115, -0.0280, -0.0217,\n",
            "        -0.0861,  0.0027,  0.0908, -0.0029,  0.0620,  0.1211,  0.0787, -0.0964,\n",
            "        -0.0029,  0.0888,  0.1042, -0.1091,  0.0271, -0.0111, -0.0156, -0.0904,\n",
            "        -0.0335, -0.1247, -0.0689, -0.0159,  0.0755, -0.0384, -0.0645,  0.1117,\n",
            "        -0.0956, -0.1350,  0.0912, -0.1029, -0.0771, -0.0488,  0.0127,  0.0965,\n",
            "         0.0739, -0.0829,  0.0859,  0.1027, -0.0264,  0.0445, -0.0439,  0.0606,\n",
            "         0.0931, -0.1244,  0.0412, -0.1115,  0.0423,  0.1018,  0.0753,  0.0850,\n",
            "         0.0319,  0.0721, -0.1066,  0.0158, -0.1321, -0.0612, -0.0871, -0.0061,\n",
            "        -0.0672, -0.0131,  0.0587, -0.1204,  0.1031,  0.1142, -0.0973,  0.0921,\n",
            "        -0.1157, -0.0719,  0.1236,  0.0380,  0.1074, -0.0928, -0.0231, -0.0932,\n",
            "        -0.0960,  0.1293, -0.0065,  0.0924, -0.0889, -0.1161,  0.0675, -0.0727,\n",
            "        -0.0913, -0.0179,  0.1111,  0.0118, -0.0942,  0.1007, -0.0854, -0.0259,\n",
            "         0.0591,  0.0871, -0.1068,  0.0630, -0.0104, -0.0729,  0.0199,  0.0910,\n",
            "         0.0292, -0.0714,  0.0261,  0.0748,  0.0887,  0.0205, -0.0011, -0.0924],\n",
            "       device='cuda:0')\n",
            "tensor([ 0.0297, -0.1086,  0.0544,  0.0092,  0.1089, -0.1053, -0.0807,  0.0593,\n",
            "         0.1068, -0.0638, -0.0897,  0.0019, -0.1038, -0.0897,  0.0018,  0.0193,\n",
            "        -0.0917, -0.0428, -0.1138, -0.0084, -0.0068,  0.0763, -0.0629, -0.0249,\n",
            "         0.0788,  0.0142,  0.0141, -0.0512, -0.0881,  0.0168,  0.0100,  0.0917,\n",
            "        -0.0225,  0.0051,  0.0232, -0.0639,  0.0568, -0.0950, -0.0061,  0.1109,\n",
            "        -0.0629,  0.0387,  0.0953, -0.0550,  0.1309,  0.0122,  0.0421,  0.0416,\n",
            "         0.0895,  0.0295, -0.0851,  0.1004, -0.0352,  0.1049,  0.0292,  0.0803,\n",
            "         0.0810, -0.0054, -0.0805, -0.0896, -0.0485,  0.0355, -0.0836,  0.1200,\n",
            "         0.0994,  0.0514, -0.0083, -0.1085, -0.0213,  0.1266,  0.0280,  0.0380,\n",
            "         0.1148,  0.0960, -0.0160, -0.0253, -0.0427, -0.0962, -0.1009,  0.1126,\n",
            "         0.1070,  0.0810,  0.0025,  0.0755, -0.0988,  0.0871, -0.0504, -0.0998,\n",
            "         0.0441,  0.1035, -0.1004, -0.0900,  0.1172, -0.0259,  0.0184,  0.0114,\n",
            "         0.0010, -0.0708, -0.0258,  0.0081,  0.1015,  0.0957, -0.1246,  0.1280,\n",
            "         0.1130,  0.0167, -0.0661, -0.1051, -0.0513, -0.0912,  0.1066,  0.1451,\n",
            "        -0.1325, -0.1107,  0.1208,  0.1019, -0.0278, -0.0316, -0.0169, -0.0454,\n",
            "        -0.0806,  0.0804, -0.0727, -0.0194,  0.0131, -0.0925,  0.0663,  0.0974,\n",
            "        -0.0140,  0.0629, -0.0287,  0.0736, -0.0445, -0.0097, -0.0503,  0.0386,\n",
            "         0.0682, -0.0456, -0.0472, -0.0262, -0.0814, -0.0371, -0.0384, -0.0848,\n",
            "         0.0754,  0.0346, -0.1054, -0.1009, -0.0732, -0.1178, -0.0863, -0.0960,\n",
            "         0.1213,  0.0241,  0.0547,  0.0898, -0.0786,  0.1165,  0.0173, -0.0673,\n",
            "         0.0099,  0.0195, -0.1065,  0.0985,  0.0377, -0.0770, -0.0957,  0.1123,\n",
            "        -0.0650, -0.0024, -0.0764, -0.0744,  0.0134, -0.0474,  0.0172, -0.0076,\n",
            "         0.0575, -0.0610,  0.0430, -0.0349,  0.0736, -0.1047, -0.0852, -0.1089,\n",
            "         0.0419,  0.0559,  0.0234,  0.0477,  0.0995, -0.1316,  0.0513, -0.0016,\n",
            "         0.0646, -0.0434, -0.1039,  0.0168, -0.0946, -0.0849,  0.1086,  0.1066,\n",
            "        -0.0800,  0.1151,  0.1109, -0.0388, -0.1303, -0.0624, -0.0529,  0.1052,\n",
            "         0.0223, -0.0216, -0.0886, -0.0349,  0.0990,  0.0574, -0.0360,  0.1045,\n",
            "         0.1244,  0.0993, -0.0036,  0.0177, -0.0112, -0.0018,  0.0572,  0.0777,\n",
            "        -0.0466,  0.0247, -0.1064,  0.0272,  0.0560, -0.0388, -0.0893, -0.0840,\n",
            "        -0.0760,  0.0949, -0.1079,  0.0434, -0.0474, -0.1008,  0.0089,  0.0667,\n",
            "         0.0992,  0.1142,  0.1238, -0.0687, -0.1261,  0.0254,  0.0469,  0.0543,\n",
            "        -0.0521,  0.0065, -0.0427, -0.0617,  0.0532,  0.1254, -0.0170,  0.1073],\n",
            "       device='cuda:0')\n",
            "tensor([[-0.0298, -0.0362, -0.0942, -0.0898,  0.0135, -0.1276,  0.1126, -0.0627,\n",
            "         -0.0047, -0.0732, -0.0849, -0.0157, -0.0456, -0.0602, -0.0606,  0.0242,\n",
            "          0.0723,  0.1154,  0.0640,  0.0201, -0.0195, -0.0350,  0.0859,  0.0135,\n",
            "          0.0045, -0.0514,  0.0421,  0.0725, -0.1288,  0.0138,  0.0639,  0.0359,\n",
            "          0.1183,  0.1172, -0.0541, -0.0700, -0.0303, -0.0412, -0.1234, -0.0870,\n",
            "         -0.0581, -0.0710,  0.0470,  0.1167,  0.0603,  0.0695, -0.0706, -0.0328,\n",
            "          0.0548, -0.1083,  0.0156,  0.0142,  0.0876,  0.0023, -0.1295,  0.0392,\n",
            "          0.1027,  0.0747, -0.0076, -0.0179, -0.0178, -0.1025, -0.1360,  0.0677]],\n",
            "       device='cuda:0')\n",
            "tensor([-0.0538], device='cuda:0')\n"
          ]
        }
      ]
    },
    {
      "cell_type": "markdown",
      "metadata": {
        "id": "PY0wF6e46-JE"
      },
      "source": [
        "## Step 5: Checking model performance\n",
        "\n",
        "With our model fit we can now make predictions on both our training and testing sets."
      ]
    },
    {
      "cell_type": "code",
      "metadata": {
        "id": "6dygBlig6_XD",
        "colab": {
          "base_uri": "https://localhost:8080/",
          "height": 448
        },
        "outputId": "ae87fb6e-c810-4293-fce1-df997b899b3c"
      },
      "source": [
        "plt.plot(history)\n",
        "# dplt.plot(history.history['val_loss'])"
      ],
      "execution_count": 17,
      "outputs": [
        {
          "output_type": "execute_result",
          "data": {
            "text/plain": [
              "[<matplotlib.lines.Line2D at 0x7fdfaa8b30d0>]"
            ]
          },
          "metadata": {},
          "execution_count": 17
        },
        {
          "output_type": "display_data",
          "data": {
            "text/plain": [
              "<Figure size 640x480 with 1 Axes>"
            ],
            "image/png": "[encoded data removed]"
          },
          "metadata": {}
        }
      ]
    },
    {
      "cell_type": "code",
      "metadata": {
        "id": "ScaBHhTv7Jih",
        "colab": {
          "base_uri": "https://localhost:8080/"
        },
        "outputId": "a2adb538-009c-42d5-89f6-f78c3527b1ec"
      },
      "source": [
        "X_test[0]"
      ],
      "execution_count": 18,
      "outputs": [
        {
          "output_type": "execute_result",
          "data": {
            "text/plain": [
              "array([[0.75733001, 0.74433354, 0.74433354, 0.73778332, 0.74246205,\n",
              "        0.74069453, 0.74474943]])"
            ]
          },
          "metadata": {},
          "execution_count": 18
        }
      ]
    },
    {
      "cell_type": "code",
      "metadata": {
        "id": "hyICDKXa7Vbe"
      },
      "source": [
        "# X_train_X_test = np.concatenate((X_train, X_test),axis=0)\n",
        "# hidden_state = None\n",
        "rnn.eval()\n",
        "# test_inputs = torch.tensor(X_test).float().cuda()\n",
        "test_predict, _ = rnn(X_test_cuda, hidden_state)\n",
        "test_predict_cpu = test_predict.cpu().detach().numpy()"
      ],
      "execution_count": 19,
      "outputs": []
    },
    {
      "cell_type": "code",
      "metadata": {
        "id": "FwD_e6VO-cIa",
        "colab": {
          "base_uri": "https://localhost:8080/"
        },
        "outputId": "f97eb8c6-f5e1-4904-c9e5-54a8fa97317a"
      },
      "source": [
        "test_predict_cpu.shape"
      ],
      "execution_count": 20,
      "outputs": [
        {
          "output_type": "execute_result",
          "data": {
            "text/plain": [
              "(251, 1, 1)"
            ]
          },
          "metadata": {},
          "execution_count": 20
        }
      ]
    },
    {
      "cell_type": "code",
      "metadata": {
        "id": "c-__h1sU7kW6",
        "colab": {
          "base_uri": "https://localhost:8080/",
          "height": 450
        },
        "outputId": "b4a2ea4f-5333-4fc6-9f72-f6f949d3ab33"
      },
      "source": [
        "plt.plot(sc.inverse_transform(y_test.reshape(-1,1)))\n",
        "plt.plot(sc.inverse_transform(test_predict_cpu.reshape(-1,1)))"
      ],
      "execution_count": 21,
      "outputs": [
        {
          "output_type": "execute_result",
          "data": {
            "text/plain": [
              "[<matplotlib.lines.Line2D at 0x7fdf88b95df0>]"
            ]
          },
          "metadata": {},
          "execution_count": 21
        },
        {
          "output_type": "display_data",
          "data": {
            "text/plain": [
              "<Figure size 640x480 with 1 Axes>"
            ],
            "image/png": "[encoded data removed]"
          },
          "metadata": {}
        }
      ]
    },
    {
      "cell_type": "code",
      "metadata": {
        "id": "LnMGQ5Sa8vMs",
        "colab": {
          "base_uri": "https://localhost:8080/",
          "height": 451
        },
        "outputId": "31de626f-0979-4025-adfb-f7d01909b79a"
      },
      "source": [
        "# plot original data\n",
        "plt.plot(sc.inverse_transform(y.reshape(-1,1)), color='k')\n",
        "\n",
        "# train_inputs = torch.tensor(X_train).float().cuda()\n",
        "train_pred, hidden_state = rnn(inputs_cuda, None)\n",
        "train_pred_cpu = train_pred.cpu().detach().numpy()\n",
        "\n",
        "# use hidden state from previous training data\n",
        "test_predict, _ = rnn(X_test_cuda, hidden_state)\n",
        "test_predict_cpu = test_predict.cpu().detach().numpy()\n",
        "\n",
        "# plt.plot(scl.inverse_transform(y_test.reshape(-1,1)))\n",
        "split_pt = int(X.shape[0] * 0.80) + 7 # window_size\n",
        "plt.plot(np.arange(7, split_pt, 1), sc.inverse_transform(train_pred_cpu.reshape(-1,1)), color='b')\n",
        "plt.plot(np.arange(split_pt, split_pt + len(test_predict_cpu), 1), sc.inverse_transform(test_predict_cpu.reshape(-1,1)), color='r')\n",
        "\n",
        "# pretty up graph\n",
        "plt.xlabel('day')\n",
        "plt.ylabel('price of MMM stock')\n",
        "plt.legend(['original series','training fit','testing fit'], loc='center left', bbox_to_anchor=(1, 0.5))\n",
        "plt.show()\n"
      ],
      "execution_count": 22,
      "outputs": [
        {
          "output_type": "display_data",
          "data": {
            "text/plain": [
              "<Figure size 640x480 with 1 Axes>"
            ],
            "image/png": "[encoded data removed]"
          },
          "metadata": {}
        }
      ]
    },
    {
      "cell_type": "code",
      "metadata": {
        "id": "u4J-TrjE2bTy"
      },
      "source": [],
      "execution_count": 22,
      "outputs": []
    }
  ]
}